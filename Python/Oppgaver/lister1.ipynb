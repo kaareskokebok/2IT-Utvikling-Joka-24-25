{
 "cells": [
  {
   "cell_type": "markdown",
   "metadata": {},
   "source": [
    "# Lister i Python\n",
    "En listevariabel kan holde på flere verdier. Det kan være tall, tekst, boolean (true/false) eller andre datatyper.\n",
    "## Lage lister"
   ]
  },
  {
   "cell_type": "code",
   "execution_count": 5,
   "metadata": {},
   "outputs": [
    {
     "name": "stdout",
     "output_type": "stream",
     "text": [
      "[3, 5, 2, 1, 4, 10]\n"
     ]
    }
   ],
   "source": [
    "liste1 = [3, 5, 2, 1, 4, 10]\n",
    "liste2 = [\"hei\", \"morna\", \"jens\", 'abc']\n",
    "liste3 = [True, 3<5, \"hei\", 3.234]\n",
    "tom_liste = [ ]\n",
    "print(liste1)"
   ]
  },
  {
   "cell_type": "markdown",
   "metadata": {},
   "source": [
    "## Hente ut og endre verdier"
   ]
  },
  {
   "cell_type": "code",
   "execution_count": 11,
   "metadata": {},
   "outputs": [
    {
     "name": "stdout",
     "output_type": "stream",
     "text": [
      "5\n",
      "3\n",
      "10\n",
      "10\n",
      "[3, 12, 14, 1, 4, 111]\n"
     ]
    }
   ],
   "source": [
    "liste = [3, 5, 2, 1, 4, 10]\n",
    "# Hente ut\n",
    "print(liste[1])\n",
    "print(liste[0])\n",
    "print(liste[-1])\n",
    "print(liste[5])\n",
    "# Endre\n",
    "liste[1] = 12\n",
    "liste[-1] = 111\n",
    "liste[2] = liste[2] + liste[1]\n",
    "\n",
    "print(liste)\n",
    "\n",
    "# Error, index out of range\n",
    "# liste[6] = 120  "
   ]
  },
  {
   "cell_type": "markdown",
   "metadata": {},
   "source": [
    "## Legge til og slette elementer (verdier)"
   ]
  },
  {
   "cell_type": "code",
   "execution_count": 16,
   "metadata": {},
   "outputs": [
    {
     "name": "stdout",
     "output_type": "stream",
     "text": [
      "[2, 4, 1, 6, 5, 2, 8, 10, 15]\n",
      "[2, 4, 1, 6, 5, 2, 8, 10, 15, -20]\n",
      "[2, 123, 4, 1, 6, 5, 2, 8, 10, 15, -20]\n",
      "[2, 123, 4, 1, 6, 5, 2, 8, 10, 15]\n",
      "[2, 123, 1, 6, 5, 2, 8, 10, 15]\n"
     ]
    }
   ],
   "source": [
    "tall = [2, 4, 1, 6, 5, 2, 8, 10]\n",
    "# Legge til 15 og deretter -20 bakerst\n",
    "tall.append(15)\n",
    "print(tall)\n",
    "tall.append(-20)\n",
    "print(tall)\n",
    "\n",
    "# Legge til på spesifikk plass\n",
    "tall.insert(1, 123)\n",
    "print(tall)\n",
    "\n",
    "# Slette på slutten\n",
    "tall.pop()\n",
    "print(tall)\n",
    "tall.pop(2)  # Fjerne verdien på index 2\n",
    "print(tall)"
   ]
  },
  {
   "cell_type": "markdown",
   "metadata": {},
   "source": [
    "## Eksempelprogram: Legge til venner\n",
    "Lag et program der du kan legge til nye venner i en liste, helt til brukeren skriver 'q', da avsluttes programmet og vennelista skrives ut."
   ]
  },
  {
   "cell_type": "code",
   "execution_count": 17,
   "metadata": {},
   "outputs": [
    {
     "name": "stdout",
     "output_type": "stream",
     "text": [
      "['jens', 'gens']\n",
      "Mine venner er:\n",
      "jens, gens\n"
     ]
    }
   ],
   "source": [
    "venner = [ ]  # Ingen venner i begynnelsen\n",
    "\n",
    "ferdig = False\n",
    "\n",
    "while not ferdig:\n",
    "    venn = input(\"Skriv inn navn på ny venn (a for avslutt): \")\n",
    "    if venn == \"a\":\n",
    "        ferdig = True\n",
    "    else: \n",
    "        venner.append(venn)\n",
    "\n",
    "print(venner)\n",
    "print(\"Mine venner er:\")\n",
    "print(\", \".join(venner))\n",
    "# join skriver ut alle verdiene, men med \", \" imellom"
   ]
  },
  {
   "cell_type": "markdown",
   "metadata": {},
   "source": [
    "## Oppgave: Dyrehage\n",
    "I begynnelsen har dyrehagen løve og bjørn. Lag et program der brukeren kan fortsette å legge til nye dyr, helt til brukeren skriver \"q\". Da skal programmet avsluttes og alle dyrene skrives ut på formen nedenfor vha. join:\n",
    "```\n",
    "løve | bjørn | tiger ...\n",
    "```\n",
    "I tillegg skal det ikke være lov å legge til flere enn 5 dyr. Da skal programmet automatisk avslutte."
   ]
  },
  {
   "cell_type": "code",
   "execution_count": null,
   "metadata": {},
   "outputs": [],
   "source": [
    "# Start med en liste som inneholder de to opprinnelige dyrene\n",
    "dyrehage = [\"løve\", \"bjørn\"]\n",
    "\n",
    "# Fortsett å legge til dyr til listen så lenge brukeren ikke skriver \"q\" eller det er mindre enn 5 dyr i listen\n",
    "while len(dyrehage) < 5:\n",
    "    nytt_dyr = input(\"Legg til et nytt dyr (eller skriv 'q' for å avslutte): \").strip().lower()\n",
    "    \n",
    "    if nytt_dyr == \"q\":\n",
    "        break  # Avslutter løkken hvis brukeren skriver \"q\"\n",
    "    else:\n",
    "        dyrehage.append(nytt_dyr)  # Legger til det nye dyret i listen\n",
    "\n",
    "# Når programmet avsluttes, skriv ut alle dyrene i listen, adskilt av \" | \"\n",
    "print(\" | \".join(dyrehage))"
   ]
  },
  {
   "cell_type": "markdown",
   "metadata": {},
   "source": [
    "## Søke i lister"
   ]
  },
  {
   "cell_type": "code",
   "execution_count": 21,
   "metadata": {},
   "outputs": [
    {
     "name": "stdout",
     "output_type": "stream",
     "text": [
      "Ikke ledig brukernavn, prøv igjen\n",
      "Brukerne: per123, jens234, genser123\n",
      "Total er det 3 brukere.\n"
     ]
    }
   ],
   "source": [
    "# Brukernavn må være unike\n",
    "brukere = [\"per123\", \"jens234\"]\n",
    "\n",
    "ny_bruker = input(\"Oppgi brukernavn: \")\n",
    "\n",
    "# Sjekk at brukernavn er ledig\n",
    "# TODO: la brukeren få flere forsøk få å skrive gyldig brukernavn\n",
    "# Bruk while-løkke\n",
    "while ny_bruker in brukere:\n",
    "    print(\"Ikke ledig brukernavn, prøv igjen\")\n",
    "    ny_bruker = input(\"Oppgi brukernavn: \")\n",
    "# Hvis nei, gi feilmelding, \n",
    "brukere.append(ny_bruker)\n",
    "print(f\"Brukerne: {', '.join(brukere)}\")\n",
    "print(f\"Total er det {len(brukere)} brukere.\")\n",
    "# ellers legg til i lista og gi tilbakemelding\n"
   ]
  },
  {
   "cell_type": "markdown",
   "metadata": {},
   "source": [
    "## Oppgave: Kursdeltakere\n",
    "Lag et program der du kan legge til og slette kursdeltakere til et dansekurs. Deltakerne legges i en liste. Det skal skrives ut en meny med valgene \n",
    "1. Legge til deltaker\n",
    "2. Slette deltaker\n",
    "3. Vise oversikt over deltakere\n",
    "4. Avslutte programmet\n",
    "\n",
    "NB! Deltakerne skal ha *unike* (forskjellige) navn. Det skal brukes `join` for å vise oversikt."
   ]
  }
 ],
 "metadata": {
  "kernelspec": {
   "display_name": "Python 3",
   "language": "python",
   "name": "python3"
  },
  "language_info": {
   "codemirror_mode": {
    "name": "ipython",
    "version": 3
   },
   "file_extension": ".py",
   "mimetype": "text/x-python",
   "name": "python",
   "nbconvert_exporter": "python",
   "pygments_lexer": "ipython3",
   "version": "3.10.12"
  }
 },
 "nbformat": 4,
 "nbformat_minor": 2
}
